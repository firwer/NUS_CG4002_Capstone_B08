{
 "cells": [
  {
   "cell_type": "code",
   "execution_count": 9,
   "id": "aff333dd-ba75-4747-9fae-878d5a0c1096",
   "metadata": {},
   "outputs": [],
   "source": [
    "import pandas as pd\n",
    "\n",
    "# Load the CSV file\n",
    "file_path = 'combined_2.csv'  # Replace with your file path\n",
    "data = pd.read_csv(file_path)\n",
    "\n",
    "# Function to truncate arrays to the first 50 elements\n",
    "def truncate_array(array_str):\n",
    "    array = eval(array_str)  # Convert the string representation of the array back to a list\n",
    "    return array[:1]  # Keep only the first 50 elements\n",
    "\n",
    "# Apply the function to all sensor data columns (ax, ay, az, gx, gy, gz)\n",
    "for col in ['ax', 'ay', 'az', 'gx', 'gy', 'gz']:\n",
    "    data[col] = data[col].apply(truncate_array)\n",
    "\n",
    "# Save the truncated data to a new CSV file\n",
    "truncated_file_path = 'truncated_1data.csv'  # Replace with your desired save location\n",
    "data.to_csv(truncated_file_path, index=False)\n"
   ]
  },
  {
   "cell_type": "code",
   "execution_count": 3,
   "id": "1164eccf-71fb-473c-9b2e-8fd0ff32a9a8",
   "metadata": {},
   "outputs": [
    {
     "name": "stdout",
     "output_type": "stream",
     "text": [
      "50\n"
     ]
    }
   ],
   "source": [
    "array = [-4899, -22076, -25000, -11819, -2911, 8745, 10059, 14117, 14732, 17645, 17690, 17463, 17211, 14968, 12615, 11816, 10623, 8753, 6382, 1352, -5602, -15963, -23317, -19103, -17859, -5693, 8481, 5122, 5722, 6270, 5245, 5282, 5265, 2725, -109, -5398, -13339, -19028, -21492, -22717, -21346, -14540, -4583, 5262, 9257, 7274, 6028, 5522, 4588, 3250]\n",
    "print(len(array))"
   ]
  },
  {
   "cell_type": "code",
   "execution_count": null,
   "id": "ce7654ff-ea1d-4bd4-b167-1b0b82c18a6a",
   "metadata": {},
   "outputs": [],
   "source": []
  }
 ],
 "metadata": {
  "kernelspec": {
   "display_name": "Python 3 (ipykernel)",
   "language": "python",
   "name": "python3"
  },
  "language_info": {
   "codemirror_mode": {
    "name": "ipython",
    "version": 3
   },
   "file_extension": ".py",
   "mimetype": "text/x-python",
   "name": "python",
   "nbconvert_exporter": "python",
   "pygments_lexer": "ipython3",
   "version": "3.12.7"
  }
 },
 "nbformat": 4,
 "nbformat_minor": 5
}
